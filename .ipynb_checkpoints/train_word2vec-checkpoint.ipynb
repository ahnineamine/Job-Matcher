{
 "cells": [
  {
   "cell_type": "code",
   "execution_count": null,
   "metadata": {},
   "outputs": [],
   "source": [
    "import numpy\n",
    "import gensim\n",
    "from gensim.parsing.preprocessing import preprocess_documents\n",
    "from gensim.models import Word2Vec\n",
    "import os\n",
    "import io\n",
    "import unicodedata\n",
    "import multiprocessing\n",
    "import logging  # Setting up the loggings to monitor gensim\n",
    "logging.basicConfig(format=\"%(levelname)s - %(asctime)s: %(message)s\", datefmt= '%H:%M:%S', level=logging.INFO)"
   ]
  },
  {
   "cell_type": "code",
   "execution_count": null,
   "metadata": {},
   "outputs": [],
   "source": [
    "def get_data(file):\n",
    "    \"\"\" Collects records from file and put them as strings in a list  \"\"\"\n",
    "    with open(file,errors='ignore') as f:\n",
    "        line_list=[]\n",
    "        for l in f:\n",
    "            line = l.rstrip('\\n')\n",
    "            line_uni = unicodedata.normalize(\"NFKD\",line)\n",
    "            line_list.append(line_uni)\n",
    "    return line_list\n",
    "\n",
    "def gensim_preproc(document):\n",
    "    \"\"\" preprocess the documents using gensim \"\"\"\n",
    "    proc_result=[]\n",
    "    for c in document :\n",
    "        doc=gensim.utils.simple_preprocess(c)\n",
    "        proc_result.append(doc)\n",
    "    return proc_result\n",
    "\n",
    "def train_word2vec(train_data,model_name=\"word2vec_model_optim\"):\n",
    "    \"\"\" Trains a word2vec model on the preprocessed data and saves it . \"\"\"\n",
    "    if not train_data:\n",
    "        print(\"no training data\")\n",
    "        return\n",
    "    print('data is ready for processing')\n",
    "    w2v_corpus = gensim_preproc(train_data)\n",
    "    cores = multiprocessing.cpu_count()\n",
    "    model = Word2Vec(w2v_corpus, workers = cores-1,iter=30, size=150, sample=6e-5, alpha=0.03, min_alpha=0.0007, negative=20)\n",
    "    model.save(model_name)\n",
    "    print(\"Model Created Successfully\")\n",
    "\n",
    "if __name__ == \"__main__\":\n",
    "    train_data = get_data('./data/training_data/Resume_data')\n",
    "    print('data has been read successfully')\n",
    "    train_word2vec(train_data)"
   ]
  },
  {
   "cell_type": "code",
   "execution_count": null,
   "metadata": {},
   "outputs": [],
   "source": []
  }
 ],
 "metadata": {
  "kernelspec": {
   "display_name": "Python 3",
   "language": "python",
   "name": "python3"
  },
  "language_info": {
   "codemirror_mode": {
    "name": "ipython",
    "version": 3
   },
   "file_extension": ".py",
   "mimetype": "text/x-python",
   "name": "python",
   "nbconvert_exporter": "python",
   "pygments_lexer": "ipython3",
   "version": "3.6.7"
  }
 },
 "nbformat": 4,
 "nbformat_minor": 2
}
